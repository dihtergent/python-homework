{
 "cells": [
  {
   "cell_type": "code",
   "execution_count": null,
   "id": "b9defaf2-ff39-4f7f-a989-bc102aa80e56",
   "metadata": {},
   "outputs": [],
   "source": []
  }
 ],
 "metadata": {
  "kernelspec": {
   "display_name": "",
   "name": ""
  },
  "language_info": {
   "name": ""
  }
 },
 "nbformat": 4,
 "nbformat_minor": 5
}
